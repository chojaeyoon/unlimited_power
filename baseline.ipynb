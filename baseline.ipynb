{
  "nbformat": 4,
  "nbformat_minor": 0,
  "metadata": {
    "colab": {
      "name": "baseline.ipynb",
      "provenance": [],
      "authorship_tag": "ABX9TyOMhawmWt6mWv68exFakUj5",
      "include_colab_link": true
    },
    "kernelspec": {
      "name": "python3",
      "display_name": "Python 3"
    }
  },
  "cells": [
    {
      "cell_type": "markdown",
      "metadata": {
        "id": "view-in-github",
        "colab_type": "text"
      },
      "source": [
        "<a href=\"https://colab.research.google.com/github/marvelous-koala/unlimited_power/blob/master/baseline.ipynb\" target=\"_parent\"><img src=\"https://colab.research.google.com/assets/colab-badge.svg\" alt=\"Open In Colab\"/></a>"
      ]
    },
    {
      "cell_type": "code",
      "metadata": {
        "colab": {
          "base_uri": "https://localhost:8080/",
          "height": 350
        },
        "id": "D5RkEZ5Z9xOB",
        "outputId": "3fa13f14-634c-47bb-eeea-374e9688356a"
      },
      "source": [
        "import pandas as pd\r\n",
        "import numpy as np\r\n",
        "import seaborn as sns\r\n",
        "import matplotlib.pyplot as plt\r\n",
        "import itertools\r\n",
        "import time\r\n",
        "import statsmodels.api as sm\r\n",
        "from sklearn import linear_model\r\n",
        "from tqdm import tnrange, tqdm_notebook\r\n",
        "from sklearn.metrics import mean_squared_error\r\n",
        "from statsmodels.regression.quantile_regression import QuantRegb"
      ],
      "execution_count": null,
      "outputs": [
        {
          "output_type": "error",
          "ename": "ImportError",
          "evalue": "ignored",
          "traceback": [
            "\u001b[0;31m---------------------------------------------------------------------------\u001b[0m",
            "\u001b[0;31mImportError\u001b[0m                               Traceback (most recent call last)",
            "\u001b[0;32m<ipython-input-4-9458d3780ff4>\u001b[0m in \u001b[0;36m<module>\u001b[0;34m()\u001b[0m\n\u001b[1;32m      9\u001b[0m \u001b[0;32mfrom\u001b[0m \u001b[0mtqdm\u001b[0m \u001b[0;32mimport\u001b[0m \u001b[0mtnrange\u001b[0m\u001b[0;34m,\u001b[0m \u001b[0mtqdm_notebook\u001b[0m\u001b[0;34m\u001b[0m\u001b[0;34m\u001b[0m\u001b[0m\n\u001b[1;32m     10\u001b[0m \u001b[0;32mfrom\u001b[0m \u001b[0msklearn\u001b[0m\u001b[0;34m.\u001b[0m\u001b[0mmetrics\u001b[0m \u001b[0;32mimport\u001b[0m \u001b[0mmean_squared_error\u001b[0m\u001b[0;34m\u001b[0m\u001b[0;34m\u001b[0m\u001b[0m\n\u001b[0;32m---> 11\u001b[0;31m \u001b[0;32mfrom\u001b[0m \u001b[0mstatsmodels\u001b[0m\u001b[0;34m.\u001b[0m\u001b[0mregression\u001b[0m\u001b[0;34m.\u001b[0m\u001b[0mquantile_regression\u001b[0m \u001b[0;32mimport\u001b[0m \u001b[0mQuantRegb\u001b[0m\u001b[0;34m\u001b[0m\u001b[0;34m\u001b[0m\u001b[0m\n\u001b[0m",
            "\u001b[0;31mImportError\u001b[0m: cannot import name 'QuantRegb'",
            "",
            "\u001b[0;31m---------------------------------------------------------------------------\u001b[0;32m\nNOTE: If your import is failing due to a missing package, you can\nmanually install dependencies using either !pip or !apt.\n\nTo view examples of installing some common dependencies, click the\n\"Open Examples\" button below.\n\u001b[0;31m---------------------------------------------------------------------------\u001b[0m\n"
          ]
        }
      ]
    },
    {
      "cell_type": "code",
      "metadata": {
        "colab": {
          "base_uri": "https://localhost:8080/"
        },
        "id": "r4AC6F_RsPqL",
        "outputId": "cfe8bbb9-6c88-467c-c334-5f58bbf699e5"
      },
      "source": [
        "pip install statsmodels.regression.quantile_regression"
      ],
      "execution_count": null,
      "outputs": [
        {
          "output_type": "stream",
          "text": [
            "\u001b[31mERROR: Could not find a version that satisfies the requirement statsmodels.regression.quantile_regression (from versions: none)\u001b[0m\n",
            "\u001b[31mERROR: No matching distribution found for statsmodels.regression.quantile_regression\u001b[0m\n"
          ],
          "name": "stdout"
        }
      ]
    },
    {
      "cell_type": "code",
      "metadata": {
        "id": "fFajXwHP91VN"
      },
      "source": [
        "from google.colab import drive\r\n",
        "drive.mount('/content/drive')"
      ],
      "execution_count": null,
      "outputs": []
    },
    {
      "cell_type": "code",
      "metadata": {
        "id": "x8lN_3uN-Hyw"
      },
      "source": [
        "train = pd.read_csv('/content/drive/MyDrive/Jupyter/unlimitied_power/raw_data/train/train.csv')\r\n",
        "sub = pd.read_csv('/content/drive/MyDrive/Jupyter/unlimitied_power/raw_data/sample_submission.csv')"
      ],
      "execution_count": null,
      "outputs": []
    },
    {
      "cell_type": "code",
      "metadata": {
        "id": "hIeowzQ2-TsE"
      },
      "source": [
        "for i in range(0,81):\r\n",
        "    s1 = \"test_%d = pd.read_csv('/content/drive/MyDrive/Jupyter/unlimitied_power/raw_data/test/%d.csv')\"%(i,i)\r\n",
        "    exec(s1)"
      ],
      "execution_count": null,
      "outputs": []
    },
    {
      "cell_type": "code",
      "metadata": {
        "id": "uVN9ZYv5-vZ8"
      },
      "source": [
        "test_2"
      ],
      "execution_count": null,
      "outputs": []
    },
    {
      "cell_type": "code",
      "metadata": {
        "id": "Lu_PFlRr_Y8b"
      },
      "source": [
        "for i in range(0, 1093):\r\n",
        "    s1 = \"train_%d = pd.concat([train.loc[train['Day'] == %d].reset_index(drop = True), train.loc[train['Day'] == %d + 2].reset_index(drop = True).rename(columns = {'TARGET' : 'TARGET_2'})['TARGET_2']], axis = 1)\"%(i, i, i)\r\n",
        "    exec(s1)"
      ],
      "execution_count": null,
      "outputs": []
    },
    {
      "cell_type": "code",
      "metadata": {
        "id": "VPL8gfRL_x-t"
      },
      "source": [
        "train_0"
      ],
      "execution_count": null,
      "outputs": []
    },
    {
      "cell_type": "code",
      "metadata": {
        "id": "QfjBsDS_AA5J"
      },
      "source": [
        "train_x = pd.concat([train_0, train_1], axis = 0).reset_index(drop=True)\r\n",
        "train_x"
      ],
      "execution_count": null,
      "outputs": []
    },
    {
      "cell_type": "code",
      "metadata": {
        "id": "x0onMXPrAFCp"
      },
      "source": [
        "for i in range(2, 1093):\r\n",
        "    s1 = \"train_x = pd.concat([train_x, train_%d], axis = 0).reset_index(drop = True)\"%(i)\r\n",
        "    exec(s1)"
      ],
      "execution_count": null,
      "outputs": []
    },
    {
      "cell_type": "code",
      "metadata": {
        "id": "hzefjJHmAK6c"
      },
      "source": [
        "train_x"
      ],
      "execution_count": null,
      "outputs": []
    },
    {
      "cell_type": "code",
      "metadata": {
        "id": "HkDAmx1dAXzZ"
      },
      "source": [
        "#변수생성\r\n",
        "hour_mean = train_x.groupby(['Hour'])['TARGET'].mean()\r\n",
        "minute_mean = train_x.groupby(['Minute'])['TARGET'].mean()\r\n",
        "train_x['Hour_mean'] = train_x['Hour'].map(hour_mean)\r\n",
        "train_x['Minute_mean'] = train_x['Minute'].map(minute_mean)"
      ],
      "execution_count": null,
      "outputs": []
    },
    {
      "cell_type": "code",
      "metadata": {
        "id": "mU8-SJajAY6M"
      },
      "source": [
        "train_x = train_x.drop(['Day', 'Hour', 'Minute'], axis = 1)\r\n",
        "train_x"
      ],
      "execution_count": null,
      "outputs": []
    },
    {
      "cell_type": "code",
      "metadata": {
        "id": "1VqcQICNAamM"
      },
      "source": [
        "x_train = train_x.drop(['TARGET_2'], axis = 1)\r\n",
        "y_train = train_x['TARGET_2']b"
      ],
      "execution_count": null,
      "outputs": []
    },
    {
      "cell_type": "code",
      "metadata": {
        "id": "9WyDnI2UAeuG"
      },
      "source": [
        "for i in range(0, 81):\r\n",
        "    s1 = \"test_%d = test_%d[240:].reset_index(drop = True)\"%(i,i)\r\n",
        "    s2 = \"hour_mean = test_%d.groupby(['Hour'])['TARGET'].mean()\"%(i)\r\n",
        "    s3 = \"minute_mean = test_%d.groupby(['Minute'])['TARGET'].mean()\"%(i)\r\n",
        "    s4 = \"test_%d['Hour_mean'] = test_%d['Hour'].map(hour_mean)\"%(i,i)\r\n",
        "    s5 = \"test_%d['Minute_mean'] = test_%d['Minute'].map(minute_mean)\"%(i,i)\r\n",
        "    s6 = \"test_%d = test_%d.drop(['Day', 'Hour', 'Minute'], axis = 1)\"%(i,i)\r\n",
        "    exec(s1)\r\n",
        "    exec(s2)\r\n",
        "    exec(s3)\r\n",
        "    exec(s4)\r\n",
        "    exec(s5)\r\n",
        "    exec(s6)"
      ],
      "execution_count": null,
      "outputs": []
    },
    {
      "cell_type": "code",
      "metadata": {
        "id": "xy-IPExtCMn-"
      },
      "source": [
        "test_x = pd.concat([test_0, test_1], axis = 0).reset_index(drop=True)\r\n",
        "test_x"
      ],
      "execution_count": null,
      "outputs": []
    },
    {
      "cell_type": "code",
      "metadata": {
        "id": "japOz5wkCQRv"
      },
      "source": [
        "for i in range(2, 81):\r\n",
        "    s1 = \"test_x = pd.concat([test_x, test_%d], axis = 0).reset_index(drop = True)\"%(i)\r\n",
        "    exec(s1)"
      ],
      "execution_count": null,
      "outputs": []
    },
    {
      "cell_type": "code",
      "metadata": {
        "id": "Ia3F2eaoCR7p"
      },
      "source": [
        "x_test = test_x.copy()"
      ],
      "execution_count": null,
      "outputs": []
    },
    {
      "cell_type": "code",
      "metadata": {
        "id": "owlV0QUgCTKh"
      },
      "source": [
        "def linear_reg(X,y):\r\n",
        "    model = linear_model.LinearRegression(fit_intercept = True)\r\n",
        "    model.fit(X,y)\r\n",
        "    RSS = mean_squared_error(y,model.predict(X)) * len(y)\r\n",
        "    R_squared = model.score(X,y)\r\n",
        "    return RSS, R_squared\r\n",
        "\r\n",
        "#X변수 개수\r\n",
        "m = len(y_train)\r\n",
        "k = 8\r\n",
        "RSS_list, R_squared_list, feature_list = [],[], []\r\n",
        "numb_features = []\r\n",
        "\r\n",
        "#1 ~ 8까지 모든 조합에 대한 성능 테스트(RSS, R_Squared)\r\n",
        "for k in tnrange(1,len(x_train.columns) + 1):\r\n",
        "    for combo in itertools.combinations(x_train.columns,k):\r\n",
        "        tmp_result = linear_reg(x_train[list(combo)],y_train)  \r\n",
        "        RSS_list.append(tmp_result[0])              \r\n",
        "        R_squared_list.append(tmp_result[1])\r\n",
        "        feature_list.append(combo)\r\n",
        "        numb_features.append(len(combo))   \r\n",
        "\r\n",
        "#결과\r\n",
        "df = pd.DataFrame({'numb_features': numb_features,'RSS': RSS_list, 'R_squared':R_squared_list,'features':feature_list})"
      ],
      "execution_count": null,
      "outputs": []
    },
    {
      "cell_type": "code",
      "metadata": {
        "id": "qK3CrwvbCdVV"
      },
      "source": [
        "df['min_RSS'] = df.groupby('numb_features')['RSS'].transform(min)\r\n",
        "df['max_R_squared'] = df.groupby('numb_features')['R_squared'].transform(max)\r\n",
        "df.head()"
      ],
      "execution_count": null,
      "outputs": []
    },
    {
      "cell_type": "code",
      "metadata": {
        "id": "EK3K-vFECihZ"
      },
      "source": [
        "df_min = df[df.groupby('numb_features')['RSS'].transform(min) == df['RSS']]\r\n",
        "display(df_min.head(5))"
      ],
      "execution_count": null,
      "outputs": []
    },
    {
      "cell_type": "code",
      "metadata": {
        "id": "dYyhkpRaCkUQ"
      },
      "source": [
        "fig = plt.figure(figsize = (16,6))\r\n",
        "ax = fig.add_subplot(1, 2, 1)\r\n",
        "\r\n",
        "ax.scatter(df.numb_features,df.RSS, alpha = .2, color = 'darkblue' )\r\n",
        "ax.plot(df.numb_features,df.min_RSS,color = 'r', label = 'Best subset')\r\n",
        "ax.set_xlabel('Features')\r\n",
        "ax.set_ylabel('RSS')\r\n",
        "ax.set_title('RSS - Best subset selection')\r\n",
        "ax.legend()\r\n",
        "\r\n",
        "ax = fig.add_subplot(1, 2, 2)\r\n",
        "ax.scatter(df.numb_features,df.R_squared, alpha = .2, color = 'darkblue' )\r\n",
        "ax.plot(df.numb_features,df.max_R_squared,color = 'r', label = 'Best subset')\r\n",
        "ax.set_xlabel('Features')\r\n",
        "ax.set_ylabel('R squared')\r\n",
        "ax.set_title('R_squared - Best subset selection')\r\n",
        "ax.legend()\r\n",
        "\r\n",
        "plt.show()"
      ],
      "execution_count": null,
      "outputs": []
    },
    {
      "cell_type": "code",
      "metadata": {
        "id": "5_prt9xlCm7d"
      },
      "source": [
        "sub['q_0.1'] = QuantReg(y_train, x_train['Hour_mean']).fit(q=0.1).predict(x_test['Hour_mean'])\r\n",
        "sub['q_0.2'] = QuantReg(y_train, x_train['Hour_mean']).fit(q=0.2).predict(x_test['Hour_mean'])\r\n",
        "sub['q_0.3'] = QuantReg(y_train, x_train['Hour_mean']).fit(q=0.3).predict(x_test['Hour_mean'])\r\n",
        "sub['q_0.4'] = QuantReg(y_train, x_train['Hour_mean']).fit(q=0.4).predict(x_test['Hour_mean'])\r\n",
        "sub['q_0.5'] = QuantReg(y_train, x_train['Hour_mean']).fit(q=0.5).predict(x_test['Hour_mean'])\r\n",
        "sub['q_0.6'] = QuantReg(y_train, x_train['Hour_mean']).fit(q=0.6).predict(x_test['Hour_mean'])\r\n",
        "sub['q_0.7'] = QuantReg(y_train, x_train['Hour_mean']).fit(q=0.7).predict(x_test['Hour_mean'])\r\n",
        "sub['q_0.8'] = QuantReg(y_train, x_train['Hour_mean']).fit(q=0.8).predict(x_test['Hour_mean'])\r\n",
        "sub['q_0.9'] = QuantReg(y_train, x_train['Hour_mean']).fit(q=0.9).predict(x_test['Hour_mean'])"
      ],
      "execution_count": null,
      "outputs": []
    },
    {
      "cell_type": "code",
      "metadata": {
        "id": "UysmV_1uC373"
      },
      "source": [
        "sub"
      ],
      "execution_count": null,
      "outputs": []
    },
    {
      "cell_type": "code",
      "metadata": {
        "id": "bJV2pcsqCqpa"
      },
      "source": [
        "sub.to_csv('1214_third.csv', index = False)"
      ],
      "execution_count": null,
      "outputs": []
    }
  ]
}